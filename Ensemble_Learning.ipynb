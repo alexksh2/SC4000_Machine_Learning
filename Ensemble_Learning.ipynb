{
 "cells": [
  {
   "cell_type": "code",
   "execution_count": null,
   "metadata": {},
   "outputs": [],
   "source": [
    "from sklearn.ensemble import StackingClassifier\n",
    "from sklearn.linear_model import LogisticRegression\n",
    "from sklearn.neighbors import KNeighborsClassifier\n",
    "from sklearn.svm import SVC\n",
    "\n",
    "# Define base models\n",
    "base_models = [\n",
    "    ('knn', KNeighborsClassifier(n_neighbors=5)),\n",
    "    ('svc', SVC(probability=True)),\n",
    "    ('dt', DecisionTreeClassifier())\n",
    "]\n",
    "\n",
    "# Meta-model\n",
    "meta_model = LogisticRegression()\n",
    "\n",
    "# Initialize a Stacking ensemble\n",
    "stacking_model = StackingClassifier(estimators=base_models, final_estimator=meta_model)\n",
    "\n",
    "# Train the ensemble model\n",
    "stacking_model.fit(X_train, y_train)\n",
    "\n",
    "# Make predictions\n",
    "y_pred = stacking_model.predict(X_test)\n",
    "\n",
    "# Evaluate model performance\n",
    "print(f\"Stacking Ensemble Accuracy: {accuracy_score(y_test, y_pred)}\")"
   ]
  },
  {
   "cell_type": "code",
   "execution_count": null,
   "metadata": {},
   "outputs": [],
   "source": [
    "from sklearn.ensemble import VotingClassifier\n",
    "\n",
    "# Define base models\n",
    "model1 = DecisionTreeClassifier()\n",
    "model2 = SVC(probability=True)\n",
    "model3 = LogisticRegression()\n",
    "\n",
    "# Voting ensemble\n",
    "voting_model = VotingClassifier(estimators=[\n",
    "    ('dt', model1), ('svc', model2), ('lr', model3)],\n",
    "    voting='soft'  # 'hard' voting is majority vote; 'soft' averages predicted probabilities\n",
    ")\n",
    "\n",
    "# Train the ensemble model\n",
    "voting_model.fit(X_train, y_train)\n",
    "\n",
    "# Make predictions\n",
    "y_pred = voting_model.predict(X_test)\n",
    "\n",
    "# Evaluate model performance\n",
    "print(f\"Voting Ensemble Accuracy: {accuracy_score(y_test, y_pred)}\")"
   ]
  },
  {
   "cell_type": "code",
   "execution_count": null,
   "metadata": {},
   "outputs": [],
   "source": [
    "from sklearn.ensemble import GradientBoostingClassifier\n",
    "\n",
    "# Initialize a Boosting model (Gradient Boosting)\n",
    "boosting_model = GradientBoostingClassifier(n_estimators=100, learning_rate=0.1, max_depth=3, random_state=42)\n",
    "\n",
    "# Train the ensemble model\n",
    "boosting_model.fit(X_train, y_train)\n",
    "\n",
    "# Make predictions\n",
    "y_pred = boosting_model.predict(X_test)\n",
    "\n",
    "# Evaluate model performance\n",
    "print(f\"Boosting Ensemble Accuracy: {accuracy_score(y_test, y_pred)}\")"
   ]
  },
  {
   "cell_type": "code",
   "execution_count": null,
   "metadata": {},
   "outputs": [],
   "source": [
    "from sklearn.ensemble import BaggingClassifier\n",
    "from sklearn.tree import DecisionTreeClassifier\n",
    "from sklearn.datasets import load_iris\n",
    "from sklearn.model_selection import train_test_split\n",
    "from sklearn.metrics import accuracy_score\n",
    "\n",
    "# Load dataset\n",
    "data = load_iris()\n",
    "X_train, X_test, y_train, y_test = train_test_split(data.data, data.target, test_size=0.2, random_state=42)\n",
    "\n",
    "# Initialize a Bagging ensemble using Decision Tree as base model\n",
    "bagging_model = BaggingClassifier(base_estimator=DecisionTreeClassifier(), n_estimators=50, random_state=42)\n",
    "\n",
    "# Train the ensemble model\n",
    "bagging_model.fit(X_train, y_train)\n",
    "\n",
    "# Make predictions\n",
    "y_pred = bagging_model.predict(X_test)\n",
    "\n",
    "# Evaluate model performance\n",
    "print(f\"Bagging Ensemble Accuracy: {accuracy_score(y_test, y_pred)}\")"
   ]
  }
 ],
 "metadata": {
  "language_info": {
   "name": "python"
  }
 },
 "nbformat": 4,
 "nbformat_minor": 2
}
