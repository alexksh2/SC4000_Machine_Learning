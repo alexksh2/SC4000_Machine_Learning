{
 "cells": [
  {
   "cell_type": "markdown",
   "id": "b9f09e3f-bed8-4ed6-a926-89fa5fe01f2d",
   "metadata": {},
   "source": [
    "## Import libraries for ensemble techniques"
   ]
  },
  {
   "cell_type": "code",
   "execution_count": 1,
   "id": "9e6b13e4-dda8-477f-9a2e-3b5ef9029a95",
   "metadata": {},
   "outputs": [],
   "source": [
    "import pandas as pd\n",
    "import numpy as np \n",
    "\n",
    "from sklearn.linear_model import LogisticRegression\n",
    "from sklearn.model_selection import train_test_split\n",
    "\n",
    "from sklearn.metrics import (\n",
    "    accuracy_score,\n",
    "    confusion_matrix,\n",
    "    ConfusionMatrixDisplay,\n",
    "    fbeta_score,\n",
    "    log_loss,\n",
    "    precision_score,\n",
    "    recall_score,\n",
    "    f1_score,\n",
    ")"
   ]
  },
  {
   "cell_type": "markdown",
   "id": "aace0551-007d-41f6-ac2e-f0d60c8866a2",
   "metadata": {},
   "source": [
    "## Load valid_df and test_df"
   ]
  },
  {
   "cell_type": "code",
   "execution_count": 2,
   "id": "eabaa16c-3823-4b34-9ce1-c0a3bbc4343e",
   "metadata": {},
   "outputs": [
    {
     "data": {
      "text/html": [
       "<div>\n",
       "<style scoped>\n",
       "    .dataframe tbody tr th:only-of-type {\n",
       "        vertical-align: middle;\n",
       "    }\n",
       "\n",
       "    .dataframe tbody tr th {\n",
       "        vertical-align: top;\n",
       "    }\n",
       "\n",
       "    .dataframe thead th {\n",
       "        text-align: right;\n",
       "    }\n",
       "</style>\n",
       "<table border=\"1\" class=\"dataframe\">\n",
       "  <thead>\n",
       "    <tr style=\"text-align: right;\">\n",
       "      <th></th>\n",
       "      <th>image_id</th>\n",
       "      <th>labels</th>\n",
       "    </tr>\n",
       "  </thead>\n",
       "  <tbody>\n",
       "    <tr>\n",
       "      <th>0</th>\n",
       "      <td>1611662564_noise_4.jpg</td>\n",
       "      <td>4</td>\n",
       "    </tr>\n",
       "    <tr>\n",
       "      <th>1</th>\n",
       "      <td>801551318_hue3_4.jpg</td>\n",
       "      <td>4</td>\n",
       "    </tr>\n",
       "    <tr>\n",
       "      <th>2</th>\n",
       "      <td>train-cbb-434.jpg</td>\n",
       "      <td>0</td>\n",
       "    </tr>\n",
       "    <tr>\n",
       "      <th>3</th>\n",
       "      <td>3078964330_hue2_4.jpg</td>\n",
       "      <td>4</td>\n",
       "    </tr>\n",
       "    <tr>\n",
       "      <th>4</th>\n",
       "      <td>175989862_hue4_2.jpg</td>\n",
       "      <td>2</td>\n",
       "    </tr>\n",
       "  </tbody>\n",
       "</table>\n",
       "</div>"
      ],
      "text/plain": [
       "                 image_id  labels\n",
       "0  1611662564_noise_4.jpg       4\n",
       "1    801551318_hue3_4.jpg       4\n",
       "2       train-cbb-434.jpg       0\n",
       "3   3078964330_hue2_4.jpg       4\n",
       "4    175989862_hue4_2.jpg       2"
      ]
     },
     "execution_count": 2,
     "metadata": {},
     "output_type": "execute_result"
    }
   ],
   "source": [
    "valid_df = pd.read_csv('valid_df.csv')\n",
    "valid_df.head(5)"
   ]
  },
  {
   "cell_type": "markdown",
   "id": "f9af8d6c-ca13-4b17-9938-081dd89e7725",
   "metadata": {},
   "source": [
    "### TEST SET !!"
   ]
  },
  {
   "cell_type": "code",
   "execution_count": 3,
   "id": "4adb04cb-af1a-4868-8045-3053a0ebe042",
   "metadata": {},
   "outputs": [],
   "source": [
    "test_df = pd.read_csv('test_df.csv')"
   ]
  },
  {
   "cell_type": "markdown",
   "id": "0cc1e67a-3222-43dc-9986-5846e48a31af",
   "metadata": {},
   "source": [
    "## Load csv files"
   ]
  },
  {
   "cell_type": "code",
   "execution_count": 4,
   "id": "b5ab6185-5e0c-4181-ab8a-0fc30d5e1ee4",
   "metadata": {},
   "outputs": [],
   "source": [
    "csv_files = ['example_best_validation_probabilities.csv', 'example2_best_validation_probabilities.csv'] "
   ]
  },
  {
   "cell_type": "code",
   "execution_count": 5,
   "id": "d1ed032e-0fd8-4303-a859-a9da424ee8ff",
   "metadata": {},
   "outputs": [],
   "source": [
    "model_count = len(csv_files)"
   ]
  },
  {
   "cell_type": "code",
   "execution_count": 6,
   "id": "11530dd8-616a-4d39-82f1-ae73c01b1dfc",
   "metadata": {},
   "outputs": [],
   "source": [
    "for i,file in enumerate(csv_files): \n",
    "    if i == 0: \n",
    "        merged_df = pd.read_csv(file)\n",
    "        #move the image_id column to the first\n",
    "        image_name = merged_df.columns[-1]\n",
    "        merged_df = merged_df[[image_name] + merged_df.columns[:-1].tolist()]\n",
    "        #sort the order of validation true labels and get the labels\n",
    "        valid_df = merged_df.merge(valid_df, on = 'image_id', how = 'left')\n",
    "        valid_df = valid_df[['image_id', 'labels']]\n",
    "        true_val_labels = valid_df['labels'].values\n",
    "    else: \n",
    "        df = pd.read_csv(file)\n",
    "        merged_df = merged_df.merge(df, on = 'image_id', how = 'left', suffixes = ('', '_model'+str(i+1)))"
   ]
  },
  {
   "cell_type": "markdown",
   "id": "3b95834c-ec8e-4fb0-a11e-d43350915814",
   "metadata": {},
   "source": [
    "## Initialize Eval Table for Ensembles"
   ]
  },
  {
   "cell_type": "code",
   "execution_count": 7,
   "id": "898f129c-2160-4c36-a960-d056376f0dea",
   "metadata": {},
   "outputs": [],
   "source": [
    "# Initialize an empty DataFrame with specific column names\n",
    "columns = ['Method','Log Loss', 'Accuracy', 'Precision', 'Recall', 'F1 Score', 'F2 Score']\n",
    "val_ensemble_df = pd.DataFrame(columns=columns)\n",
    "test_ensemble_df = pd.DataFrame(columns=columns)"
   ]
  },
  {
   "cell_type": "code",
   "execution_count": 8,
   "id": "5061f78c-236b-4c8d-ac1b-de5736343b04",
   "metadata": {},
   "outputs": [],
   "source": [
    "def add_ensemble (ensemble_df, true_labels, pred_labels, pred_probs, method, mode):\n",
    "    logloss = log_loss(true_labels, pred_probs)\n",
    "    accuracy = accuracy_score(true_labels, pred_labels)\n",
    "    precision = precision_score(true_labels, pred_labels, average=\"weighted\")\n",
    "    recall = recall_score(true_labels, pred_labels, average=\"weighted\")\n",
    "    f1 = f1_score(true_labels, pred_labels, average=\"weighted\")\n",
    "    f2 = fbeta_score(true_labels, pred_labels, beta=2, average=\"weighted\")\n",
    "\n",
    "    print(f\"Metrics for {method} on {mode} set\")\n",
    "    print(f\"Log Loss: {logloss:.4f}\")\n",
    "    print(f\"Accuracy: {accuracy:.4f}\")\n",
    "    print(f\"Precision: {precision:.4f}\")\n",
    "    print(f\"Recall: {recall:.4f}\")\n",
    "    print(f\"F1 Score: {f1:.4f}\")\n",
    "    print(f\"F2 Score: {f2:.4f}\")\n",
    "    \n",
    "    ensemble_df.loc[len(ensemble_df)] = [method, logloss, accuracy, precision, recall, f1, f2]\n",
    "    return ensemble_df"
   ]
  },
  {
   "cell_type": "markdown",
   "id": "aace919b-8d2c-4bdb-8e96-2a144abe9b7e",
   "metadata": {},
   "source": [
    "## Load softmax probabilities\n",
    "Note: Assuming that all csv files contain a last column stating the image_ids. Here, we only extract the true labels from the first file"
   ]
  },
  {
   "cell_type": "markdown",
   "id": "2e081502-e9d8-48f1-852e-2654ccc1c6e6",
   "metadata": {},
   "source": [
    "## Ensemble 1 - Soft Voting: Averaging"
   ]
  },
  {
   "cell_type": "code",
   "execution_count": 9,
   "id": "a715bcb4-e5e0-41c9-b548-f29300e8923f",
   "metadata": {},
   "outputs": [],
   "source": [
    "average_df = pd.DataFrame()\n",
    "\n",
    "average_df['image_id'] = merged_df['image_id']\n",
    "average_df['avg_prob_class0'] = merged_df[['prob_class_0'] + [f'prob_class_0_model{i+2}' for i in range(model_count - 1)]].mean(axis=1)\n",
    "average_df['avg_prob_class1'] = merged_df[['prob_class_1'] + [f'prob_class_1_model{i+2}' for i in range(model_count - 1)]].mean(axis=1)\n",
    "average_df['avg_prob_class2'] = merged_df[['prob_class_2'] + [f'prob_class_2_model{i+2}' for i in range(model_count - 1)]].mean(axis=1)\n",
    "average_df['avg_prob_class3'] = merged_df[['prob_class_3'] + [f'prob_class_3_model{i+2}' for i in range(model_count - 1)]].mean(axis=1)\n",
    "average_df['avg_prob_class4'] = merged_df[['prob_class_4'] + [f'prob_class_4_model{i+2}' for i in range(model_count - 1)]].mean(axis=1)\n",
    "\n",
    "average_df.to_csv('test_average.csv', index=False)"
   ]
  },
  {
   "cell_type": "code",
   "execution_count": 10,
   "id": "52d8c1c5-637f-43d1-9f95-8264f57429ca",
   "metadata": {},
   "outputs": [],
   "source": [
    "# Get predictions for logloss \n",
    "pred_val_probs = np.array([average_df.iloc[i, 1:].values for i in range(len(average_df))])"
   ]
  },
  {
   "cell_type": "code",
   "execution_count": 11,
   "id": "9d9715df-2a8d-4df3-8851-7004fa2dd54d",
   "metadata": {},
   "outputs": [],
   "source": [
    "# Get the column index (integer) of the maximum value in each row, starting from the second column\n",
    "pred_val_labels = average_df.values[:, 1:].argmax(axis=1) "
   ]
  },
  {
   "cell_type": "code",
   "execution_count": 12,
   "id": "bfbdf69b-133c-431e-ba1b-0b13c23c11c0",
   "metadata": {},
   "outputs": [
    {
     "name": "stdout",
     "output_type": "stream",
     "text": [
      "Metrics for Averaging on Val set\n",
      "Log Loss: 0.8583\n",
      "Accuracy: 0.6678\n",
      "Precision: 0.6717\n",
      "Recall: 0.6678\n",
      "F1 Score: 0.6675\n",
      "F2 Score: 0.6672\n"
     ]
    },
    {
     "name": "stderr",
     "output_type": "stream",
     "text": [
      "C:\\Users\\jingh\\anaconda3\\Lib\\site-packages\\sklearn\\metrics\\_classification.py:2956: UserWarning: The y_pred values do not sum to one. Make sure to pass probabilities.\n",
      "  warnings.warn(\n"
     ]
    }
   ],
   "source": [
    "val_ensemble_df = add_ensemble(val_ensemble_df, true_val_labels, pred_val_labels, pred_val_probs, \"Averaging\", \"Val\")"
   ]
  },
  {
   "cell_type": "code",
   "execution_count": 13,
   "id": "245313ae-665e-4cb4-a8c2-ddbf4c4b32a0",
   "metadata": {},
   "outputs": [
    {
     "data": {
      "text/html": [
       "<div>\n",
       "<style scoped>\n",
       "    .dataframe tbody tr th:only-of-type {\n",
       "        vertical-align: middle;\n",
       "    }\n",
       "\n",
       "    .dataframe tbody tr th {\n",
       "        vertical-align: top;\n",
       "    }\n",
       "\n",
       "    .dataframe thead th {\n",
       "        text-align: right;\n",
       "    }\n",
       "</style>\n",
       "<table border=\"1\" class=\"dataframe\">\n",
       "  <thead>\n",
       "    <tr style=\"text-align: right;\">\n",
       "      <th></th>\n",
       "      <th>Method</th>\n",
       "      <th>Log Loss</th>\n",
       "      <th>Accuracy</th>\n",
       "      <th>Precision</th>\n",
       "      <th>Recall</th>\n",
       "      <th>F1 Score</th>\n",
       "      <th>F2 Score</th>\n",
       "    </tr>\n",
       "  </thead>\n",
       "  <tbody>\n",
       "    <tr>\n",
       "      <th>0</th>\n",
       "      <td>Averaging</td>\n",
       "      <td>0.858309</td>\n",
       "      <td>0.66777</td>\n",
       "      <td>0.671675</td>\n",
       "      <td>0.66777</td>\n",
       "      <td>0.667488</td>\n",
       "      <td>0.667171</td>\n",
       "    </tr>\n",
       "  </tbody>\n",
       "</table>\n",
       "</div>"
      ],
      "text/plain": [
       "      Method  Log Loss  Accuracy  Precision   Recall  F1 Score  F2 Score\n",
       "0  Averaging  0.858309   0.66777   0.671675  0.66777  0.667488  0.667171"
      ]
     },
     "execution_count": 13,
     "metadata": {},
     "output_type": "execute_result"
    }
   ],
   "source": [
    "val_ensemble_df"
   ]
  },
  {
   "cell_type": "markdown",
   "id": "31af4c1a-3cf4-4567-ad28-3cbd9182198b",
   "metadata": {},
   "source": [
    "Remember add for test set. "
   ]
  },
  {
   "cell_type": "markdown",
   "id": "3a064f6e-c8bb-4a94-8e3f-53c48a6e65f9",
   "metadata": {},
   "source": [
    "## Ensemble 2 - Stacking Classifier"
   ]
  },
  {
   "cell_type": "code",
   "execution_count": 14,
   "id": "3034c25e-a857-4ffc-8052-8016a38a6548",
   "metadata": {},
   "outputs": [
    {
     "data": {
      "text/html": [
       "<div>\n",
       "<style scoped>\n",
       "    .dataframe tbody tr th:only-of-type {\n",
       "        vertical-align: middle;\n",
       "    }\n",
       "\n",
       "    .dataframe tbody tr th {\n",
       "        vertical-align: top;\n",
       "    }\n",
       "\n",
       "    .dataframe thead th {\n",
       "        text-align: right;\n",
       "    }\n",
       "</style>\n",
       "<table border=\"1\" class=\"dataframe\">\n",
       "  <thead>\n",
       "    <tr style=\"text-align: right;\">\n",
       "      <th></th>\n",
       "      <th>image_id</th>\n",
       "      <th>prob_class_0</th>\n",
       "      <th>prob_class_1</th>\n",
       "      <th>prob_class_2</th>\n",
       "      <th>prob_class_3</th>\n",
       "      <th>prob_class_4</th>\n",
       "      <th>prob_class_0_model2</th>\n",
       "      <th>prob_class_1_model2</th>\n",
       "      <th>prob_class_2_model2</th>\n",
       "      <th>prob_class_3_model2</th>\n",
       "      <th>prob_class_4_model2</th>\n",
       "    </tr>\n",
       "  </thead>\n",
       "  <tbody>\n",
       "    <tr>\n",
       "      <th>0</th>\n",
       "      <td>2932210794_rotate_4.jpg</td>\n",
       "      <td>0.099557</td>\n",
       "      <td>0.069480</td>\n",
       "      <td>0.062635</td>\n",
       "      <td>0.021433</td>\n",
       "      <td>0.746895</td>\n",
       "      <td>0.099557</td>\n",
       "      <td>0.069480</td>\n",
       "      <td>0.062635</td>\n",
       "      <td>0.021433</td>\n",
       "      <td>0.746895</td>\n",
       "    </tr>\n",
       "    <tr>\n",
       "      <th>1</th>\n",
       "      <td>2090870733_shadow_4.jpg</td>\n",
       "      <td>0.001777</td>\n",
       "      <td>0.000660</td>\n",
       "      <td>0.040215</td>\n",
       "      <td>0.950968</td>\n",
       "      <td>0.006381</td>\n",
       "      <td>0.001777</td>\n",
       "      <td>0.000660</td>\n",
       "      <td>0.040215</td>\n",
       "      <td>0.950968</td>\n",
       "      <td>0.006381</td>\n",
       "    </tr>\n",
       "    <tr>\n",
       "      <th>2</th>\n",
       "      <td>2347718160_hue3_0.jpg</td>\n",
       "      <td>0.146259</td>\n",
       "      <td>0.352487</td>\n",
       "      <td>0.067375</td>\n",
       "      <td>0.031296</td>\n",
       "      <td>0.402584</td>\n",
       "      <td>0.146259</td>\n",
       "      <td>0.352487</td>\n",
       "      <td>0.067375</td>\n",
       "      <td>0.031296</td>\n",
       "      <td>0.402584</td>\n",
       "    </tr>\n",
       "    <tr>\n",
       "      <th>3</th>\n",
       "      <td>train-cmd-994_shear_3.jpg</td>\n",
       "      <td>0.113118</td>\n",
       "      <td>0.086233</td>\n",
       "      <td>0.291113</td>\n",
       "      <td>0.292378</td>\n",
       "      <td>0.217159</td>\n",
       "      <td>0.113118</td>\n",
       "      <td>0.086233</td>\n",
       "      <td>0.291113</td>\n",
       "      <td>0.292378</td>\n",
       "      <td>0.217159</td>\n",
       "    </tr>\n",
       "    <tr>\n",
       "      <th>4</th>\n",
       "      <td>1439675422_hue4_0.jpg</td>\n",
       "      <td>0.634798</td>\n",
       "      <td>0.272170</td>\n",
       "      <td>0.016158</td>\n",
       "      <td>0.032814</td>\n",
       "      <td>0.044060</td>\n",
       "      <td>0.634798</td>\n",
       "      <td>0.272170</td>\n",
       "      <td>0.016158</td>\n",
       "      <td>0.032814</td>\n",
       "      <td>0.044060</td>\n",
       "    </tr>\n",
       "    <tr>\n",
       "      <th>...</th>\n",
       "      <td>...</td>\n",
       "      <td>...</td>\n",
       "      <td>...</td>\n",
       "      <td>...</td>\n",
       "      <td>...</td>\n",
       "      <td>...</td>\n",
       "      <td>...</td>\n",
       "      <td>...</td>\n",
       "      <td>...</td>\n",
       "      <td>...</td>\n",
       "      <td>...</td>\n",
       "    </tr>\n",
       "    <tr>\n",
       "      <th>14795</th>\n",
       "      <td>4239036041_rotate_1.jpg</td>\n",
       "      <td>0.765609</td>\n",
       "      <td>0.208602</td>\n",
       "      <td>0.004535</td>\n",
       "      <td>0.004617</td>\n",
       "      <td>0.016637</td>\n",
       "      <td>0.765609</td>\n",
       "      <td>0.208602</td>\n",
       "      <td>0.004535</td>\n",
       "      <td>0.004617</td>\n",
       "      <td>0.016637</td>\n",
       "    </tr>\n",
       "    <tr>\n",
       "      <th>14796</th>\n",
       "      <td>train-cmd-8_hue3_3.jpg</td>\n",
       "      <td>0.023618</td>\n",
       "      <td>0.018197</td>\n",
       "      <td>0.690077</td>\n",
       "      <td>0.249425</td>\n",
       "      <td>0.018683</td>\n",
       "      <td>0.023618</td>\n",
       "      <td>0.018197</td>\n",
       "      <td>0.690077</td>\n",
       "      <td>0.249425</td>\n",
       "      <td>0.018683</td>\n",
       "    </tr>\n",
       "    <tr>\n",
       "      <th>14797</th>\n",
       "      <td>2779441922_hue1_2.jpg</td>\n",
       "      <td>0.205329</td>\n",
       "      <td>0.132130</td>\n",
       "      <td>0.342390</td>\n",
       "      <td>0.258805</td>\n",
       "      <td>0.061347</td>\n",
       "      <td>0.205329</td>\n",
       "      <td>0.132130</td>\n",
       "      <td>0.342390</td>\n",
       "      <td>0.258805</td>\n",
       "      <td>0.061347</td>\n",
       "    </tr>\n",
       "    <tr>\n",
       "      <th>14798</th>\n",
       "      <td>847847826_rotate_1.jpg</td>\n",
       "      <td>0.002532</td>\n",
       "      <td>0.988133</td>\n",
       "      <td>0.002781</td>\n",
       "      <td>0.002482</td>\n",
       "      <td>0.004072</td>\n",
       "      <td>0.002532</td>\n",
       "      <td>0.988133</td>\n",
       "      <td>0.002781</td>\n",
       "      <td>0.002482</td>\n",
       "      <td>0.004072</td>\n",
       "    </tr>\n",
       "    <tr>\n",
       "      <th>14799</th>\n",
       "      <td>2779488398_shadow_4.jpg</td>\n",
       "      <td>0.022365</td>\n",
       "      <td>0.029773</td>\n",
       "      <td>0.694927</td>\n",
       "      <td>0.031722</td>\n",
       "      <td>0.221214</td>\n",
       "      <td>0.022365</td>\n",
       "      <td>0.029773</td>\n",
       "      <td>0.694927</td>\n",
       "      <td>0.031722</td>\n",
       "      <td>0.221214</td>\n",
       "    </tr>\n",
       "  </tbody>\n",
       "</table>\n",
       "<p>14800 rows × 11 columns</p>\n",
       "</div>"
      ],
      "text/plain": [
       "                        image_id  prob_class_0  prob_class_1  prob_class_2  \\\n",
       "0        2932210794_rotate_4.jpg      0.099557      0.069480      0.062635   \n",
       "1        2090870733_shadow_4.jpg      0.001777      0.000660      0.040215   \n",
       "2          2347718160_hue3_0.jpg      0.146259      0.352487      0.067375   \n",
       "3      train-cmd-994_shear_3.jpg      0.113118      0.086233      0.291113   \n",
       "4          1439675422_hue4_0.jpg      0.634798      0.272170      0.016158   \n",
       "...                          ...           ...           ...           ...   \n",
       "14795    4239036041_rotate_1.jpg      0.765609      0.208602      0.004535   \n",
       "14796     train-cmd-8_hue3_3.jpg      0.023618      0.018197      0.690077   \n",
       "14797      2779441922_hue1_2.jpg      0.205329      0.132130      0.342390   \n",
       "14798     847847826_rotate_1.jpg      0.002532      0.988133      0.002781   \n",
       "14799    2779488398_shadow_4.jpg      0.022365      0.029773      0.694927   \n",
       "\n",
       "       prob_class_3  prob_class_4  prob_class_0_model2  prob_class_1_model2  \\\n",
       "0          0.021433      0.746895             0.099557             0.069480   \n",
       "1          0.950968      0.006381             0.001777             0.000660   \n",
       "2          0.031296      0.402584             0.146259             0.352487   \n",
       "3          0.292378      0.217159             0.113118             0.086233   \n",
       "4          0.032814      0.044060             0.634798             0.272170   \n",
       "...             ...           ...                  ...                  ...   \n",
       "14795      0.004617      0.016637             0.765609             0.208602   \n",
       "14796      0.249425      0.018683             0.023618             0.018197   \n",
       "14797      0.258805      0.061347             0.205329             0.132130   \n",
       "14798      0.002482      0.004072             0.002532             0.988133   \n",
       "14799      0.031722      0.221214             0.022365             0.029773   \n",
       "\n",
       "       prob_class_2_model2  prob_class_3_model2  prob_class_4_model2  \n",
       "0                 0.062635             0.021433             0.746895  \n",
       "1                 0.040215             0.950968             0.006381  \n",
       "2                 0.067375             0.031296             0.402584  \n",
       "3                 0.291113             0.292378             0.217159  \n",
       "4                 0.016158             0.032814             0.044060  \n",
       "...                    ...                  ...                  ...  \n",
       "14795             0.004535             0.004617             0.016637  \n",
       "14796             0.690077             0.249425             0.018683  \n",
       "14797             0.342390             0.258805             0.061347  \n",
       "14798             0.002781             0.002482             0.004072  \n",
       "14799             0.694927             0.031722             0.221214  \n",
       "\n",
       "[14800 rows x 11 columns]"
      ]
     },
     "execution_count": 14,
     "metadata": {},
     "output_type": "execute_result"
    }
   ],
   "source": [
    "merged_df"
   ]
  },
  {
   "cell_type": "code",
   "execution_count": 15,
   "id": "2873a345-eb47-43c0-86c5-2bcecc8613f0",
   "metadata": {},
   "outputs": [],
   "source": [
    "#load the arrays of softmax probabilities \n",
    "model_probs = []\n",
    "for j in range (model_count): \n",
    "    if j == 0: \n",
    "        column_names = [f'prob_class_{i}' for i in range(5)]\n",
    "    else: \n",
    "        column_names = [f'prob_class_{i}_model{j+1}' for i in range(5)]\n",
    "    model_prob = merged_df[column_names].values\n",
    "    model_probs.append(model_prob)"
   ]
  },
  {
   "cell_type": "code",
   "execution_count": 16,
   "id": "759058d1-7b5b-4a55-836f-7cbf1ed96b6b",
   "metadata": {},
   "outputs": [],
   "source": [
    "# Stack all model probabilities horizontally\n",
    "X_stacked = np.hstack(model_probs)"
   ]
  },
  {
   "cell_type": "code",
   "execution_count": 17,
   "id": "c41f851f-f42d-45f6-9b0a-aa87a56f155a",
   "metadata": {},
   "outputs": [],
   "source": [
    "# Initialize and fit the logistic regression model\n",
    "logistic_classifier = LogisticRegression(solver='lbfgs', max_iter=1000)\n",
    "logistic_classifier.fit(X_stacked, true_val_labels)\n",
    "# Make predictions on the validation set\n",
    "log_val_predlabel = logistic_classifier.predict(X_stacked)\n",
    "log_val_predprob = logistic_classifier.predict_proba(X_stacked)\n"
   ]
  },
  {
   "cell_type": "code",
   "execution_count": 18,
   "id": "41626287-6374-497a-b114-290154a24e15",
   "metadata": {},
   "outputs": [
    {
     "name": "stdout",
     "output_type": "stream",
     "text": [
      "Metrics for LogReg on Val set\n",
      "Log Loss: 0.8936\n",
      "Accuracy: 0.6706\n",
      "Precision: 0.6719\n",
      "Recall: 0.6706\n",
      "F1 Score: 0.6708\n",
      "F2 Score: 0.6706\n"
     ]
    }
   ],
   "source": [
    "val_ensemble_df = add_ensemble(val_ensemble_df, true_val_labels, log_val_predlabel, log_val_predprob, \"LogReg\", \"Val\")"
   ]
  },
  {
   "cell_type": "code",
   "execution_count": 19,
   "id": "b3560208-7a12-42cd-a3c8-05d141b6cb86",
   "metadata": {},
   "outputs": [
    {
     "data": {
      "text/html": [
       "<div>\n",
       "<style scoped>\n",
       "    .dataframe tbody tr th:only-of-type {\n",
       "        vertical-align: middle;\n",
       "    }\n",
       "\n",
       "    .dataframe tbody tr th {\n",
       "        vertical-align: top;\n",
       "    }\n",
       "\n",
       "    .dataframe thead th {\n",
       "        text-align: right;\n",
       "    }\n",
       "</style>\n",
       "<table border=\"1\" class=\"dataframe\">\n",
       "  <thead>\n",
       "    <tr style=\"text-align: right;\">\n",
       "      <th></th>\n",
       "      <th>Method</th>\n",
       "      <th>Log Loss</th>\n",
       "      <th>Accuracy</th>\n",
       "      <th>Precision</th>\n",
       "      <th>Recall</th>\n",
       "      <th>F1 Score</th>\n",
       "      <th>F2 Score</th>\n",
       "    </tr>\n",
       "  </thead>\n",
       "  <tbody>\n",
       "    <tr>\n",
       "      <th>0</th>\n",
       "      <td>Averaging</td>\n",
       "      <td>0.858309</td>\n",
       "      <td>0.667770</td>\n",
       "      <td>0.671675</td>\n",
       "      <td>0.667770</td>\n",
       "      <td>0.667488</td>\n",
       "      <td>0.667171</td>\n",
       "    </tr>\n",
       "    <tr>\n",
       "      <th>1</th>\n",
       "      <td>LogReg</td>\n",
       "      <td>0.893574</td>\n",
       "      <td>0.670608</td>\n",
       "      <td>0.671944</td>\n",
       "      <td>0.670608</td>\n",
       "      <td>0.670828</td>\n",
       "      <td>0.670591</td>\n",
       "    </tr>\n",
       "  </tbody>\n",
       "</table>\n",
       "</div>"
      ],
      "text/plain": [
       "      Method  Log Loss  Accuracy  Precision    Recall  F1 Score  F2 Score\n",
       "0  Averaging  0.858309  0.667770   0.671675  0.667770  0.667488  0.667171\n",
       "1     LogReg  0.893574  0.670608   0.671944  0.670608  0.670828  0.670591"
      ]
     },
     "execution_count": 19,
     "metadata": {},
     "output_type": "execute_result"
    }
   ],
   "source": [
    "val_ensemble_df"
   ]
  },
  {
   "cell_type": "markdown",
   "id": "c4d66e4a-42b9-43ea-ac64-12b3009ca7c7",
   "metadata": {},
   "source": [
    "Remember add for test set. "
   ]
  },
  {
   "cell_type": "code",
   "execution_count": null,
   "id": "b088f9bf-6378-4cae-ade1-ca952d3fe4fb",
   "metadata": {},
   "outputs": [],
   "source": []
  },
  {
   "cell_type": "code",
   "execution_count": null,
   "id": "99c79023-66f0-4205-9218-fe6744261aca",
   "metadata": {},
   "outputs": [],
   "source": []
  },
  {
   "cell_type": "code",
   "execution_count": null,
   "id": "74c42e66-c58e-4de1-95e6-99ed4a18bbb7",
   "metadata": {},
   "outputs": [],
   "source": []
  },
  {
   "cell_type": "code",
   "execution_count": null,
   "id": "d26292d1-857d-4fd0-9530-3a12e1399175",
   "metadata": {},
   "outputs": [],
   "source": []
  }
 ],
 "metadata": {
  "kernelspec": {
   "display_name": "Python 3 (ipykernel)",
   "language": "python",
   "name": "python3"
  },
  "language_info": {
   "codemirror_mode": {
    "name": "ipython",
    "version": 3
   },
   "file_extension": ".py",
   "mimetype": "text/x-python",
   "name": "python",
   "nbconvert_exporter": "python",
   "pygments_lexer": "ipython3",
   "version": "3.11.5"
  }
 },
 "nbformat": 4,
 "nbformat_minor": 5
}
