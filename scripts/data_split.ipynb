{
 "cells": [
  {
   "cell_type": "code",
   "execution_count": null,
   "metadata": {},
   "outputs": [],
   "source": [
    "output_csv_path = \"../data/train_images_filtered_no_duplicates.csv\"\n",
    "train_df_filtered.to_csv(output_csv_path, index=False)\n",
    "\n",
    "print(f\"New CSV generated at: {output_csv_path}\")\n",
    "\n",
    "end_time = datetime.datetime.now()\n",
    "print(end_time - start_time)"
   ]
  },
  {
   "cell_type": "code",
   "execution_count": null,
   "metadata": {},
   "outputs": [],
   "source": [
    "train_df_filtered = train_df\n",
    "print(train_df_filtered)"
   ]
  },
  {
   "cell_type": "code",
   "execution_count": null,
   "metadata": {},
   "outputs": [],
   "source": [
    "unique_labels = train_df_filtered.label.value_counts()\n",
    "num_unique_labels = unique_labels.nunique()\n",
    "print(unique_labels)"
   ]
  },
  {
   "cell_type": "code",
   "execution_count": null,
   "metadata": {},
   "outputs": [],
   "source": [
    "from sklearn import model_selection\n",
    "\n",
    "df_train, df_temp = model_selection.train_test_split(\n",
    "    train_df_filtered, test_size=0.4, random_state=109, stratify=train_df_filtered[\"label\"].values\n",
    ")\n",
    "\n",
    "df_valid, df_test = model_selection.train_test_split(\n",
    "    df_temp, test_size=0.5, random_state=109, stratify=df_temp[\"label\"].values\n",
    ")"
   ]
  },
  {
   "cell_type": "code",
   "execution_count": null,
   "metadata": {},
   "outputs": [],
   "source": [
    "from imblearn.over_sampling import SMOTE\n",
    "\n",
    "# Set SMOTE to balance all classes to the size of the largest class\n",
    "smote = SMOTE(sampling_strategy='auto', random_state=42)\n",
    "X_resampled, y_resampled = smote.fit_resample(X_train, y_train)"
   ]
  },
  {
   "cell_type": "code",
   "execution_count": null,
   "metadata": {},
   "outputs": [],
   "source": [
    "import pandas as pd\n",
    "import numpy as np\n",
    "from imblearn.over_sampling import SMOTE\n",
    "from skimage.io import imread\n",
    "import os\n",
    "# Step 1: Load Images\n",
    "image_paths = \"../dataset/train_images/\"  \n",
    "\n",
    "smote_output_folder = \"../dataset/smote_images/\"   \n",
    "os.makedirs(smote_output_folder, exist_ok=True)\n",
    "\n",
    "X = []\n",
    "y = []\n",
    "\n",
    "for idx, row in train_df.iterrows():\n",
    "    image_id = row['image_id']\n",
    "    label = row['label']\n",
    "    \n",
    "    # Load each image, assuming file path format is image_paths + image_id + '.jpg'\n",
    "    image = imread(f\"{image_paths}{image_id}\")\n",
    "    \n",
    "    # Append image and label\n",
    "    X.append(image)\n",
    "    y.append(label)\n",
    "\n",
    "X = np.array(X)  # Convert to numpy array\n",
    "y = np.array(y)"
   ]
  },
  {
   "cell_type": "code",
   "execution_count": null,
   "metadata": {},
   "outputs": [],
   "source": [
    "\n",
    "# Step 2: Flatten images if necessary\n",
    "X_flattened = X.reshape(X.shape[0], -1)  # Flatten to 1D if needed\n",
    "\n",
    "# Step 3: Apply SMOTE\n",
    "smote = SMOTE(sampling_strategy='auto', random_state=42)\n",
    "X_resampled_flattened, y_resampled = smote.fit_resample(X_flattened, y)\n",
    "\n",
    "# Step 4: Reshape back if you flattened\n",
    "image_shape = X.shape[1:]  # Original shape\n",
    "X_resampled = X_resampled_flattened.reshape(-1, *image_shape)\n",
    "\n",
    "# Step 5: Create DataFrame with resampled data\n",
    "# Optionally, create synthetic `image_id`s for new samples or add a prefix to differentiate\n",
    "df_resampled = pd.DataFrame({\n",
    "    'image_id': [f\"{i}_synthetic\" for i in range(len(y_resampled))],  # New synthetic IDs\n",
    "    'class_label': y_resampled\n",
    "})\n",
    "\n",
    "# Save SMOTE-generated images\n",
    "for i, img_array in enumerate(X_resampled[len(X):]):  # Only new images\n",
    "    img = Image.fromarray(img_array.astype('uint8'), 'RGB')  # Convert numpy array to Image\n",
    "    img.save(f\"{smote_output_folder}/smote_image_{i}.jpg\")  # Save with unique name\n"
   ]
  },
  {
   "cell_type": "code",
   "execution_count": null,
   "metadata": {},
   "outputs": [],
   "source": [
    "# from imblearn.under_sampling import RandomUnderSampler\n",
    "# from imblearn.over_sampling import RandomOverSampler\n",
    "\n",
    "# desired_majority_class_size = 6000\n",
    "\n",
    "# class_counts = df_train[\"labels\"].value_counts()\n",
    "# undersample_strategy = {class_counts.idxmax(): desired_majority_class_size}\n",
    "\n",
    "# rus = RandomUnderSampler(sampling_strategy=undersample_strategy, random_state=109)\n",
    "# X_under, y_under = rus.fit_resample(\n",
    "#     df_train[\"image_id\"].values.reshape(-1, 1), df_train[\"labels\"].values\n",
    "# )\n",
    "\n",
    "# desired_minority_class_size = 6000\n",
    "\n",
    "# ros = RandomOverSampler(\n",
    "#     sampling_strategy={\n",
    "#         label: desired_minority_class_size\n",
    "#         for label in class_counts.index\n",
    "#         if class_counts[label] < desired_minority_class_size\n",
    "#     },\n",
    "#     random_state=109,\n",
    "# )\n",
    "# X_resampled, y_resampled = ros.fit_resample(X_under, y_under)\n",
    "\n",
    "# df_train_resampled = pd.DataFrame(\n",
    "#     {\"image_id\": X_resampled.flatten(), \"labels\": y_resampled}\n",
    "# )\n",
    "\n",
    "# # Check the new class distribution\n",
    "# print(df_train_resampled[\"labels\"].value_counts())\n",
    "\n",
    "# df_train_resampled.reset_index(drop=True, inplace=True)\n"
   ]
  },
  {
   "cell_type": "code",
   "execution_count": null,
   "metadata": {},
   "outputs": [],
   "source": [
    "output_csv_path = \"../data/train_images_filtered_no_duplicates.csv\"\n",
    "train_df_filtered.to_csv(output_csv_path, index=False)\n",
    "\n",
    "print(f\"New CSV generated at: {output_csv_path}\")\n",
    "\n",
    "end_time = datetime.datetime.now()\n",
    "print(end_time - start_time)\n"
   ]
  }
 ],
 "metadata": {
  "language_info": {
   "name": "python"
  }
 },
 "nbformat": 4,
 "nbformat_minor": 2
}
