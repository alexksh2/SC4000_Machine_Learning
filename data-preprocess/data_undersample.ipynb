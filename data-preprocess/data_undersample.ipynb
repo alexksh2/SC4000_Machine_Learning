{
 "cells": [
  {
   "cell_type": "code",
   "execution_count": 2,
   "metadata": {},
   "outputs": [],
   "source": [
    "\n",
    "import pandas as pd\n",
    "import numpy as np\n",
    "import os\n",
    "import torch\n",
    "import imagehash\n",
    "import glob\n",
    "import matplotlib.pyplot as plt\n",
    "\n",
    "from tqdm.auto import tqdm\n",
    "from PIL import Image"
   ]
  },
  {
   "cell_type": "code",
   "execution_count": 7,
   "metadata": {},
   "outputs": [],
   "source": [
    "TRAIN_CSV_PATH = '../data_duplicate/train_images_filtered_no_duplicate_transformed_1.csv'"
   ]
  },
  {
   "cell_type": "code",
   "execution_count": null,
   "metadata": {},
   "outputs": [],
   "source": [
    "train_df = pd.read_csv(TRAIN_CSV_PATH)\n",
    "print(train_df)"
   ]
  },
  {
   "cell_type": "code",
   "execution_count": null,
   "metadata": {},
   "outputs": [],
   "source": [
    "unique_labels = train_df.labels.value_counts()\n",
    "num_unique_labels = unique_labels.nunique()\n",
    "print(unique_labels)\n",
    "\n"
   ]
  },
  {
   "cell_type": "code",
   "execution_count": null,
   "metadata": {},
   "outputs": [],
   "source": [
    "from sklearn.utils import resample\n",
    "min_class_count = train_df['labels'].value_counts().min()\n",
    "\n",
    "# Separate DataFrame by class\n",
    "dfs = []\n",
    "for label in train_df['labels'].unique():\n",
    "    class_df = train_df[train_df['labels'] == label]\n",
    "    \n",
    "    # Downsample to minority class size\n",
    "    if len(class_df) > min_class_count:\n",
    "        class_df = resample(class_df, replace=False, n_samples=min_class_count, random_state=42)\n",
    "    \n",
    "    dfs.append(class_df)\n",
    "\n",
    "# Concatenate all classes to get the final undersampled DataFrame\n",
    "undersampled_df = pd.concat(dfs)\n",
    "\n",
    "# Shuffle the dataset\n",
    "undersampled_df = undersampled_df.sample(frac=1, random_state=42).reset_index(drop=True)\n",
    "\n",
    "# Display the result\n",
    "print(undersampled_df)"
   ]
  },
  {
   "cell_type": "code",
   "execution_count": null,
   "metadata": {},
   "outputs": [],
   "source": [
    "unique_labels = undersampled_df.labels.value_counts()\n",
    "num_unique_labels = unique_labels.nunique()\n",
    "print(unique_labels)"
   ]
  },
  {
   "cell_type": "code",
   "execution_count": null,
   "metadata": {},
   "outputs": [],
   "source": [
    "print(undersampled_df)"
   ]
  },
  {
   "cell_type": "code",
   "execution_count": 13,
   "metadata": {},
   "outputs": [],
   "source": [
    "import os\n",
    "\n",
    "# Define the directory where the images are stored\n",
    "image_dir = \"/Users/alexshienhowkhoo/Documents/NTU_BCG/NTU_BCG_Y3S1/Others/SC4000_Machine_Learning/SC4000_Project/SC4000_Machine_Learning/data_duplicate/train_images\"\n",
    "\n",
    "# Get a set of image IDs from the undersampled DataFrame\n",
    "image_ids_to_keep = set(undersampled_df['image_id'])\n",
    "    "
   ]
  },
  {
   "cell_type": "code",
   "execution_count": null,
   "metadata": {},
   "outputs": [],
   "source": [
    "\n",
    "# Loop through all files in the image directory\n",
    "for filename in os.listdir(image_dir):\n",
    "    print(filename)\n",
    "    # Remove the file extension to match the image_id\n",
    "    image_id = os.path.basename(filename)\n",
    "    # Check if the image_id is not in the undersampled DataFrame\n",
    "    if image_id not in image_ids_to_keep:\n",
    "        # Construct the full path to the image file\n",
    "        file_path = os.path.join(image_dir, filename)\n",
    "        # # Delete the image file\n",
    "        os.remove(file_path)\n",
    "        print(f\"Deleted {file_path}\")"
   ]
  },
  {
   "cell_type": "code",
   "execution_count": 15,
   "metadata": {},
   "outputs": [],
   "source": [
    "from sklearn import model_selection\n",
    "\n",
    "df_train, df_temp = model_selection.train_test_split(\n",
    "    undersampled_df, test_size=0.4, random_state=109, stratify=undersampled_df[\"labels\"].values\n",
    ")\n",
    "\n",
    "df_valid, df_test = model_selection.train_test_split(\n",
    "    df_temp, test_size=0.5, random_state=109, stratify=df_temp[\"labels\"].values\n",
    ")"
   ]
  },
  {
   "cell_type": "code",
   "execution_count": null,
   "metadata": {},
   "outputs": [],
   "source": [
    "len(df_train)"
   ]
  },
  {
   "cell_type": "code",
   "execution_count": null,
   "metadata": {},
   "outputs": [],
   "source": [
    "len(df_valid)"
   ]
  },
  {
   "cell_type": "code",
   "execution_count": null,
   "metadata": {},
   "outputs": [],
   "source": [
    "len(df_test)"
   ]
  },
  {
   "cell_type": "code",
   "execution_count": null,
   "metadata": {},
   "outputs": [],
   "source": [
    "44400+14800*2"
   ]
  },
  {
   "cell_type": "code",
   "execution_count": null,
   "metadata": {},
   "outputs": [],
   "source": [
    "ls"
   ]
  },
  {
   "cell_type": "code",
   "execution_count": null,
   "metadata": {},
   "outputs": [],
   "source": [
    "images_path = '/Users/alexshienhowkhoo/Documents/NTU_BCG/NTU_BCG_Y3S1/Others/SC4000_Machine_Learning/SC4000_Project/SC4000_Machine_Learning/data_duplicate/train_images'\n",
    "img_paths = glob.glob(images_path + '/*.jpg')\n",
    "len(img_paths)"
   ]
  },
  {
   "cell_type": "code",
   "execution_count": 19,
   "metadata": {},
   "outputs": [],
   "source": [
    "df_train.to_csv(\"train_df.csv\", index=False) \n",
    "df_valid.to_csv(\"valid_df.csv\", index=False) \n",
    "df_test.to_csv(\"test_df.csv\", index=False) "
   ]
  },
  {
   "cell_type": "code",
   "execution_count": 21,
   "metadata": {},
   "outputs": [],
   "source": [
    "df_train.to_csv(\"../data_duplicate/train_df.csv\", index=False) \n",
    "df_valid.to_csv(\"../data_duplicate/valid_df.csv\", index=False) \n",
    "df_test.to_csv(\"../data_duplicate/test_df.csv\", index=False) "
   ]
  },
  {
   "cell_type": "code",
   "execution_count": null,
   "metadata": {},
   "outputs": [],
   "source": [
    "import pandas as pd\n",
    "train_df = pd.read_csv(\"train_df.csv\")\n",
    "print(train_df)"
   ]
  },
  {
   "cell_type": "code",
   "execution_count": null,
   "metadata": {},
   "outputs": [],
   "source": [
    "\n",
    "import os\n",
    "\n",
    "# Define the directory you want to search\n",
    "directory = '/Users/alexshienhowkhoo/Documents/NTU_BCG/NTU_BCG_Y3S1/Others/SC4000_Machine_Learning/SC4000_Project/SC4000_Machine_Learning/data_duplicate/train_images'\n",
    "\n",
    "# Define the filename you're looking for\n",
    "filename = '202131582_noise_4.jpg'\n",
    "\n",
    "# Check if the file exists in the directory\n",
    "file_path = os.path.join(directory, filename)\n",
    "if os.path.isfile(file_path):\n",
    "    print(f\"'{filename}' exists in the directory.\")\n",
    "else:\n",
    "    print(f\"'{filename}' does not exist in the directory.\")\n",
    "\n"
   ]
  }
 ],
 "metadata": {
  "kernelspec": {
   "display_name": "Python 3",
   "language": "python",
   "name": "python3"
  },
  "language_info": {
   "codemirror_mode": {
    "name": "ipython",
    "version": 3
   },
   "file_extension": ".py",
   "mimetype": "text/x-python",
   "name": "python",
   "nbconvert_exporter": "python",
   "pygments_lexer": "ipython3",
   "version": "3.12.5"
  }
 },
 "nbformat": 4,
 "nbformat_minor": 2
}
